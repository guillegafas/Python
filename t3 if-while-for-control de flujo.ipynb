{
 "cells": [
  {
   "cell_type": "code",
   "execution_count": 2,
   "metadata": {},
   "outputs": [
    {
     "name": "stdout",
     "output_type": "stream",
     "text": [
      "a vale 5\n"
     ]
    }
   ],
   "source": [
    "a=5\n",
    "if a ==2:\n",
    "    print('a vale 2')\n",
    "if a == 5:\n",
    "    print('a vale 5')"
   ]
  },
  {
   "cell_type": "code",
   "execution_count": 3,
   "metadata": {},
   "outputs": [
    {
     "name": "stdout",
     "output_type": "stream",
     "text": [
      "a vale 5 5\n",
      "y b vale 10\n"
     ]
    }
   ],
   "source": [
    "a = 5\n",
    "b = 10\n",
    "if a ==5:\n",
    "    print('a vale 5', a)\n",
    "    if b == 10:\n",
    "        print('y b vale', b)"
   ]
  },
  {
   "cell_type": "code",
   "execution_count": 4,
   "metadata": {},
   "outputs": [
    {
     "name": "stdout",
     "output_type": "stream",
     "text": [
      "10  es par\n"
     ]
    }
   ],
   "source": [
    "n = 10\n",
    "if n%2 == 0:\n",
    "    print(n, ' es par')\n",
    "else:\n",
    "    print(n, 'impar')"
   ]
  },
  {
   "cell_type": "code",
   "execution_count": 3,
   "metadata": {},
   "outputs": [
    {
     "name": "stdout",
     "output_type": "stream",
     "text": [
      "bienvenido\n"
     ]
    }
   ],
   "source": [
    "comando = 'ENTRAR'\n",
    "if comando == 'ENTRAR':\n",
    "    print('bienvenido')\n",
    "elif comando == 'SALIR':\n",
    "    print('saliendo del sistema')\n",
    "else:\n",
    "    print('no se reconoce comando')"
   ]
  },
  {
   "cell_type": "code",
   "execution_count": 4,
   "metadata": {},
   "outputs": [
    {
     "name": "stdin",
     "output_type": "stream",
     "text": [
      "introduce nota:  6\n"
     ]
    },
    {
     "name": "stdout",
     "output_type": "stream",
     "text": [
      "aprobado\n"
     ]
    }
   ],
   "source": [
    "nota = float(input('introduce nota: '))\n",
    "if nota >=9:\n",
    "    print('sobre')\n",
    "elif nota >= 7:\n",
    "    print('nota')\n",
    "elif nota >= 5:\n",
    "    print ('aprobado')\n",
    "else:\n",
    "    print('suspenso')\n",
    "    \n",
    "                   "
   ]
  },
  {
   "cell_type": "code",
   "execution_count": 5,
   "metadata": {},
   "outputs": [],
   "source": [
    "#si no lo hacemos con elif mira lo que pasa"
   ]
  },
  {
   "cell_type": "code",
   "execution_count": 8,
   "metadata": {},
   "outputs": [
    {
     "name": "stdin",
     "output_type": "stream",
     "text": [
      "introduce nota:  7\n"
     ]
    },
    {
     "name": "stdout",
     "output_type": "stream",
     "text": [
      "nota\n",
      "aprobado\n"
     ]
    }
   ],
   "source": [
    "nota = float(input('introduce nota: '))\n",
    "if nota >=9:\n",
    "    print('sobre')\n",
    "if nota >= 7:\n",
    "    print('nota')\n",
    "if nota >= 5:\n",
    "    print ('aprobado')\n",
    "if nota <5:\n",
    "    print('suspenso')"
   ]
  },
  {
   "cell_type": "code",
   "execution_count": 9,
   "metadata": {},
   "outputs": [],
   "source": [
    "#habria que hacerlo asi"
   ]
  },
  {
   "cell_type": "code",
   "execution_count": 10,
   "metadata": {},
   "outputs": [
    {
     "name": "stdin",
     "output_type": "stream",
     "text": [
      "introduce nota:  7\n"
     ]
    },
    {
     "name": "stdout",
     "output_type": "stream",
     "text": [
      "nota\n"
     ]
    }
   ],
   "source": [
    "nota = float(input('introduce nota: '))\n",
    "if nota >=9:\n",
    "    print('sobre')\n",
    "if nota >= 7 and nota <9:\n",
    "    print('nota')\n",
    "if nota >= 5 and nota <7:\n",
    "    print ('aprobado')\n",
    "if nota <5:\n",
    "    print('suspenso')"
   ]
  },
  {
   "cell_type": "code",
   "execution_count": 11,
   "metadata": {},
   "outputs": [],
   "source": [
    "#vamos con while\n"
   ]
  },
  {
   "cell_type": "code",
   "execution_count": 12,
   "metadata": {},
   "outputs": [
    {
     "name": "stdout",
     "output_type": "stream",
     "text": [
      "c vale:  1\n",
      "c vale:  2\n",
      "c vale:  3\n",
      "c vale:  4\n",
      "c vale:  5\n",
      "c vale:  6\n"
     ]
    }
   ],
   "source": [
    "c = 0\n",
    "while c <= 5:\n",
    "    c = c+1\n",
    "    print(\"c vale: \",c)"
   ]
  },
  {
   "cell_type": "code",
   "execution_count": 13,
   "metadata": {},
   "outputs": [],
   "source": [
    "#podemos poner un else al final del while para que haga algo cuando acabe este"
   ]
  },
  {
   "cell_type": "code",
   "execution_count": 14,
   "metadata": {},
   "outputs": [
    {
     "name": "stdout",
     "output_type": "stream",
     "text": [
      "c vale:  1\n",
      "c vale:  2\n",
      "c vale:  3\n",
      "c vale:  4\n",
      "c vale:  5\n",
      "c vale:  6\n",
      "esto es todo\n"
     ]
    }
   ],
   "source": [
    "c = 0\n",
    "while c <= 5:\n",
    "    c = c+1\n",
    "    print(\"c vale: \",c)\n",
    "else:\n",
    "    print('esto es todo')"
   ]
  },
  {
   "cell_type": "code",
   "execution_count": 15,
   "metadata": {},
   "outputs": [],
   "source": [
    "#esto es como decir, cuando la condicion del while sea false haz esto"
   ]
  },
  {
   "cell_type": "code",
   "execution_count": 16,
   "metadata": {},
   "outputs": [],
   "source": [
    "#podemos usar BRAKE para parar el while cuando queramos"
   ]
  },
  {
   "cell_type": "code",
   "execution_count": 18,
   "metadata": {},
   "outputs": [
    {
     "name": "stdout",
     "output_type": "stream",
     "text": [
      "c vale:  1\n",
      "c vale:  2\n",
      "c vale:  3\n",
      "Rompemos el bucle\n"
     ]
    }
   ],
   "source": [
    "c = 0\n",
    "while c <= 5:\n",
    "    c +=1\n",
    "    if c==4:\n",
    "        print('Rompemos el bucle')\n",
    "        break\n",
    "    print(\"c vale: \",c)\n",
    "    \n",
    "else:\n",
    "    print('esto es todo')"
   ]
  },
  {
   "cell_type": "code",
   "execution_count": 19,
   "metadata": {},
   "outputs": [],
   "source": [
    "#con CONTINUE podemos saltarnos una parte del bucle"
   ]
  },
  {
   "cell_type": "code",
   "execution_count": 20,
   "metadata": {},
   "outputs": [
    {
     "name": "stdout",
     "output_type": "stream",
     "text": [
      "c vale:  1\n",
      "c vale:  2\n",
      "c vale:  3\n",
      "continuamos el bucle\n",
      "c vale:  5\n",
      "c vale:  6\n",
      "esto es todo\n"
     ]
    }
   ],
   "source": [
    "c = 0\n",
    "while c <= 5:\n",
    "    c +=1\n",
    "    if c==4:\n",
    "        print('continuamos el bucle')\n",
    "        continue\n",
    "    print(\"c vale: \",c)\n",
    "    \n",
    "else:\n",
    "    print('esto es todo')"
   ]
  },
  {
   "cell_type": "code",
   "execution_count": 22,
   "metadata": {},
   "outputs": [
    {
     "name": "stdout",
     "output_type": "stream",
     "text": [
      "Bienvenido\n",
      "Que quieres hacer? \n",
      "    1-- saludar\n",
      "    2-- sumar\n",
      "    3-- salir\n"
     ]
    },
    {
     "name": "stdin",
     "output_type": "stream",
     "text": [
      " 1\n"
     ]
    },
    {
     "name": "stdout",
     "output_type": "stream",
     "text": [
      "hola\n",
      "Que quieres hacer? \n",
      "    1-- saludar\n",
      "    2-- sumar\n",
      "    3-- salir\n"
     ]
    },
    {
     "name": "stdin",
     "output_type": "stream",
     "text": [
      " 2\n",
      "numero 1 5\n",
      "numero 2 10\n"
     ]
    },
    {
     "name": "stdout",
     "output_type": "stream",
     "text": [
      "El resultado es  15.0\n",
      "Que quieres hacer? \n",
      "    1-- saludar\n",
      "    2-- sumar\n",
      "    3-- salir\n"
     ]
    },
    {
     "name": "stdin",
     "output_type": "stream",
     "text": [
      " 8\n"
     ]
    },
    {
     "name": "stdout",
     "output_type": "stream",
     "text": [
      "opcion no valida\n",
      "Que quieres hacer? \n",
      "    1-- saludar\n",
      "    2-- sumar\n",
      "    3-- salir\n"
     ]
    },
    {
     "name": "stdin",
     "output_type": "stream",
     "text": [
      " 3\n"
     ]
    },
    {
     "name": "stdout",
     "output_type": "stream",
     "text": [
      "Adios\n"
     ]
    }
   ],
   "source": [
    "print('Bienvenido')\n",
    "while(True):\n",
    "    print('''Que quieres hacer? \n",
    "    1-- saludar\n",
    "    2-- sumar\n",
    "    3-- salir''')\n",
    "    opcion = int(input())\n",
    "    if opcion == 1:\n",
    "        print('hola')\n",
    "    elif opcion == 2:\n",
    "        n1 = float(input('numero 1'))\n",
    "        n2 = float(input('numero 2'))\n",
    "        print('El resultado es ', n1+n2)\n",
    "    elif opcion ==3:\n",
    "        print('Adios')\n",
    "        break\n",
    "    else:\n",
    "        print('opcion no valida')"
   ]
  },
  {
   "cell_type": "code",
   "execution_count": 23,
   "metadata": {},
   "outputs": [],
   "source": [
    "# AHORA PROBAMOS EL FOR"
   ]
  },
  {
   "cell_type": "code",
   "execution_count": 24,
   "metadata": {},
   "outputs": [
    {
     "name": "stdout",
     "output_type": "stream",
     "text": [
      "1\n",
      "2\n",
      "3\n",
      "4\n",
      "5\n",
      "6\n",
      "7\n",
      "8\n",
      "9\n"
     ]
    }
   ],
   "source": [
    "numero = [1,2,3,4,5,6,7,8,9]\n",
    "indice = 0\n",
    "while indice < len(numero):\n",
    "    print(numero[indice])\n",
    "    indice +=1"
   ]
  },
  {
   "cell_type": "code",
   "execution_count": 25,
   "metadata": {},
   "outputs": [],
   "source": [
    "#esta es una forma de leer una lista usando while"
   ]
  },
  {
   "cell_type": "code",
   "execution_count": 26,
   "metadata": {},
   "outputs": [],
   "source": [
    "#ahora vamos a ahcerlo con for"
   ]
  },
  {
   "cell_type": "code",
   "execution_count": 41,
   "metadata": {},
   "outputs": [
    {
     "name": "stdout",
     "output_type": "stream",
     "text": [
      "1\n",
      "2\n",
      "3\n",
      "4\n",
      "5\n",
      "6\n",
      "7\n",
      "8\n",
      "9\n"
     ]
    }
   ],
   "source": [
    "numeros = [1,2,3,4,5,6,7,8,9]\n",
    "for numero in numeros: #la variable numero no ha sido declarada, pero asi se puede recorrer la lista\n",
    "    print(numero)"
   ]
  },
  {
   "cell_type": "code",
   "execution_count": 43,
   "metadata": {},
   "outputs": [
    {
     "data": {
      "text/plain": [
       "[1, 2, 3, 4, 5, 6, 7, 8, 9]"
      ]
     },
     "execution_count": 43,
     "metadata": {},
     "output_type": "execute_result"
    }
   ],
   "source": [
    "for numero in numeros: #esto no va a funcionar porque realmente no estamos manipulando el contenido de la lista\n",
    "    numero *= 10\n",
    "numeros\n",
    "    "
   ]
  },
  {
   "cell_type": "code",
   "execution_count": 40,
   "metadata": {},
   "outputs": [
    {
     "data": {
      "text/plain": [
       "[10, 20, 30, 40, 50, 60, 70, 80, 90]"
      ]
     },
     "execution_count": 40,
     "metadata": {},
     "output_type": "execute_result"
    }
   ],
   "source": [
    "indice = 0\n",
    "numeros = [1,2,3,4,5,6,7,8,9]\n",
    "for numero in numeros:\n",
    "    numeros[indice] *= 10 #aqui si manipulamos el contenido de la lista numero por numero\n",
    "    indice +=1\n",
    "numeros"
   ]
  },
  {
   "cell_type": "code",
   "execution_count": 44,
   "metadata": {},
   "outputs": [],
   "source": [
    "#hay una funcion llamada ENUMERATE que nos permite hacer un indice en el for directamente"
   ]
  },
  {
   "cell_type": "code",
   "execution_count": 53,
   "metadata": {},
   "outputs": [
    {
     "data": {
      "text/plain": [
       "[10, 20, 30, 40, 50, 60, 70, 80, 90]"
      ]
     },
     "execution_count": 53,
     "metadata": {},
     "output_type": "execute_result"
    }
   ],
   "source": [
    "\n",
    "numeros = [1,2,3,4,5,6,7,8,9]\n",
    "for indice,numero in enumerate(numeros):\n",
    "    numeros[indice] *=10\n",
    "numeros"
   ]
  },
  {
   "cell_type": "code",
   "execution_count": 54,
   "metadata": {},
   "outputs": [
    {
     "name": "stdout",
     "output_type": "stream",
     "text": [
      "H\n",
      "o\n",
      "l\n",
      "a\n",
      " \n",
      "a\n",
      "m\n",
      "i\n",
      "g\n",
      "o\n",
      "s\n"
     ]
    }
   ],
   "source": [
    "cadena = 'Hola amigos'\n",
    "for caracter in cadena:\n",
    "    print(caracter)"
   ]
  },
  {
   "cell_type": "code",
   "execution_count": 55,
   "metadata": {},
   "outputs": [],
   "source": [
    "#las cadenas de caracteres no se pueden modificar como si fueran numeros"
   ]
  },
  {
   "cell_type": "code",
   "execution_count": 56,
   "metadata": {},
   "outputs": [
    {
     "ename": "TypeError",
     "evalue": "'str' object does not support item assignment",
     "output_type": "error",
     "traceback": [
      "\u001b[1;31m---------------------------------------------------------------------------\u001b[0m",
      "\u001b[1;31mTypeError\u001b[0m                                 Traceback (most recent call last)",
      "Cell \u001b[1;32mIn[56], line 2\u001b[0m\n\u001b[0;32m      1\u001b[0m \u001b[38;5;28;01mfor\u001b[39;00m indice,cadena \u001b[38;5;129;01min\u001b[39;00m \u001b[38;5;28menumerate\u001b[39m(cadena):\n\u001b[1;32m----> 2\u001b[0m     \u001b[43mcadena\u001b[49m\u001b[43m[\u001b[49m\u001b[43mindice\u001b[49m\u001b[43m]\u001b[49m \u001b[38;5;241m=\u001b[39m \u001b[38;5;124m'\u001b[39m\u001b[38;5;124m*\u001b[39m\u001b[38;5;124m'\u001b[39m\n",
      "\u001b[1;31mTypeError\u001b[0m: 'str' object does not support item assignment"
     ]
    }
   ],
   "source": [
    "for indice,cadena in enumerate(cadena):\n",
    "    cadena[indice] = '*'"
   ]
  },
  {
   "cell_type": "code",
   "execution_count": 57,
   "metadata": {},
   "outputs": [],
   "source": [
    "#para hacerlo hay que hacerlo asi\n",
    "#vamos a cambiar la cadena por todo * Creamos primero una nueva cadena vacia"
   ]
  },
  {
   "cell_type": "code",
   "execution_count": 60,
   "metadata": {},
   "outputs": [
    {
     "data": {
      "text/plain": [
       "'hola amigos'"
      ]
     },
     "execution_count": 60,
     "metadata": {},
     "output_type": "execute_result"
    }
   ],
   "source": [
    "cadena = 'hola amigos'\n",
    "cadena2 = ''\n",
    "for caracter in cadena:\n",
    "    cadena2 += '*'\n",
    "cadena"
   ]
  },
  {
   "cell_type": "code",
   "execution_count": 61,
   "metadata": {},
   "outputs": [
    {
     "data": {
      "text/plain": [
       "'***********'"
      ]
     },
     "execution_count": 61,
     "metadata": {},
     "output_type": "execute_result"
    }
   ],
   "source": [
    "cadena2"
   ]
  },
  {
   "cell_type": "code",
   "execution_count": 63,
   "metadata": {},
   "outputs": [
    {
     "name": "stdout",
     "output_type": "stream",
     "text": [
      "0\n",
      "1\n",
      "2\n",
      "3\n",
      "4\n",
      "5\n",
      "6\n",
      "7\n",
      "8\n",
      "9\n"
     ]
    }
   ],
   "source": [
    "for i in range(10):\n",
    "    print(i)"
   ]
  },
  {
   "cell_type": "code",
   "execution_count": 64,
   "metadata": {},
   "outputs": [],
   "source": [
    "#esto de range es una cosa que tiene python para parecerse a otros lenguajes de programacion.\n",
    "#sirve para decirle que me haga un for durante un numero concreto de iteracciones"
   ]
  },
  {
   "cell_type": "code",
   "execution_count": 65,
   "metadata": {},
   "outputs": [],
   "source": [
    "#funcion enumerate"
   ]
  },
  {
   "cell_type": "code",
   "execution_count": 66,
   "metadata": {},
   "outputs": [],
   "source": [
    "#esto del enumerate es una movida, ha puesto un video en el que se explica. Basicamente si hacemos un enumerate a \n",
    "#la lista que sea nos devuelve una direccion de memoria. si la copnvertimos en lista podremos ver lo que hay\n",
    "#guardado. Lo que hay guardado es la informacion de cada elemento y en que posicion de encuentra de la lista cada elemento"
   ]
  },
  {
   "cell_type": "code",
   "execution_count": 67,
   "metadata": {},
   "outputs": [],
   "source": [
    "elementos = [1,2,'hola',3,'mundo',[5,6,7]]"
   ]
  },
  {
   "cell_type": "code",
   "execution_count": 69,
   "metadata": {},
   "outputs": [
    {
     "data": {
      "text/plain": [
       "<enumerate at 0x1bd8056cf40>"
      ]
     },
     "execution_count": 69,
     "metadata": {},
     "output_type": "execute_result"
    }
   ],
   "source": [
    "enumerate(elementos) #nos devuelve una direccion de memoria"
   ]
  },
  {
   "cell_type": "code",
   "execution_count": 70,
   "metadata": {},
   "outputs": [
    {
     "data": {
      "text/plain": [
       "[(0, 1), (1, 2), (2, 'hola'), (3, 3), (4, 'mundo'), (5, [5, 6, 7])]"
      ]
     },
     "execution_count": 70,
     "metadata": {},
     "output_type": "execute_result"
    }
   ],
   "source": [
    "list(enumerate(elementos)) #con la funcion list nos devuelve lo que hay dentro de esa direccion de memoria"
   ]
  },
  {
   "cell_type": "code",
   "execution_count": 72,
   "metadata": {},
   "outputs": [
    {
     "name": "stdout",
     "output_type": "stream",
     "text": [
      "(0, 1)\n",
      "(1, 2)\n",
      "(2, 'hola')\n",
      "(3, 3)\n",
      "(4, 'mundo')\n",
      "(5, [5, 6, 7])\n"
     ]
    }
   ],
   "source": [
    "for i in enumerate(elementos):\n",
    "    print(i) #com esto podemos ver cada tupla(columna) anterior una por una con el indice"
   ]
  },
  {
   "cell_type": "code",
   "execution_count": 73,
   "metadata": {},
   "outputs": [
    {
     "name": "stdout",
     "output_type": "stream",
     "text": [
      "0 1\n",
      "1 2\n",
      "2 hola\n",
      "3 3\n",
      "4 mundo\n",
      "5 [5, 6, 7]\n"
     ]
    }
   ],
   "source": [
    "for indice, valor in enumerate(elementos):\n",
    "    print(indice, valor)"
   ]
  },
  {
   "cell_type": "code",
   "execution_count": 74,
   "metadata": {},
   "outputs": [],
   "source": [
    "#esto nos devuelve los valores"
   ]
  },
  {
   "cell_type": "code",
   "execution_count": 75,
   "metadata": {},
   "outputs": [
    {
     "name": "stdout",
     "output_type": "stream",
     "text": [
      "1\n",
      "2\n",
      "hola\n",
      "3\n",
      "mundo\n",
      "[5, 6, 7]\n"
     ]
    }
   ],
   "source": [
    "for indice, valor in enumerate(elementos):\n",
    "    print(valor)"
   ]
  },
  {
   "cell_type": "code",
   "execution_count": 76,
   "metadata": {},
   "outputs": [],
   "source": [
    "#bucles anidados"
   ]
  },
  {
   "cell_type": "code",
   "execution_count": 77,
   "metadata": {},
   "outputs": [],
   "source": [
    "#cuando tienes una sublista dentro de una lista y la quieres recorrer se puede lograr usando dos bucles for"
   ]
  },
  {
   "cell_type": "code",
   "execution_count": 79,
   "metadata": {},
   "outputs": [],
   "source": [
    "lista = [\n",
    "    'cadena',\n",
    "    (1,2,3,4,5),\n",
    "    ['azul', 'verde', 'rojo']\n",
    "]"
   ]
  },
  {
   "cell_type": "code",
   "execution_count": 81,
   "metadata": {},
   "outputs": [
    {
     "name": "stdout",
     "output_type": "stream",
     "text": [
      "cadena\n",
      "(1, 2, 3, 4, 5)\n",
      "['azul', 'verde', 'rojo']\n"
     ]
    }
   ],
   "source": [
    "for colection in lista:\n",
    "    print(colection)"
   ]
  },
  {
   "cell_type": "code",
   "execution_count": 82,
   "metadata": {},
   "outputs": [
    {
     "name": "stdout",
     "output_type": "stream",
     "text": [
      "cadena -> c\n",
      "cadena -> a\n",
      "cadena -> d\n",
      "cadena -> e\n",
      "cadena -> n\n",
      "cadena -> a\n",
      "(1, 2, 3, 4, 5) -> 1\n",
      "(1, 2, 3, 4, 5) -> 2\n",
      "(1, 2, 3, 4, 5) -> 3\n",
      "(1, 2, 3, 4, 5) -> 4\n",
      "(1, 2, 3, 4, 5) -> 5\n",
      "['azul', 'verde', 'rojo'] -> azul\n",
      "['azul', 'verde', 'rojo'] -> verde\n",
      "['azul', 'verde', 'rojo'] -> rojo\n"
     ]
    }
   ],
   "source": [
    "for colection in lista:\n",
    "    for elemento in colection:\n",
    "        print(colection, '->', elemento)\n",
    "              #'->'esto solo influye a como se ve la salida"
   ]
  },
  {
   "cell_type": "code",
   "execution_count": 83,
   "metadata": {},
   "outputs": [
    {
     "name": "stdout",
     "output_type": "stream",
     "text": [
      "cadena -> c\n",
      "cadena -> a\n",
      "cadena -> d\n",
      "cadena -> e\n",
      "cadena -> n\n",
      "cadena -> a\n",
      "(1, 2, 3, 4, 5) -> 1\n",
      "(1, 2, 3, 4, 5) -> 2\n",
      "(1, 2, 3, 4, 5) -> 3\n",
      "(1, 2, 3, 4, 5) -> 4\n",
      "(1, 2, 3, 4, 5) -> 5\n",
      "['azul', 'verde', 'rojo'] -> azul\n",
      "['azul', 'verde', 'rojo'] -> verde\n",
      "['azul', 'verde', 'rojo'] -> rojo\n"
     ]
    }
   ],
   "source": [
    "#otra forma\n",
    "for indice_colection, colection in enumerate(lista):\n",
    "    for indice_elemento, elemento in enumerate(colection):\n",
    "        print(colection, '->', elemento)\n",
    "    "
   ]
  },
  {
   "cell_type": "code",
   "execution_count": 84,
   "metadata": {},
   "outputs": [],
   "source": [
    "#recuerda base de datos, vamos a ver todo esto como si fueran tablas"
   ]
  },
  {
   "cell_type": "code",
   "execution_count": 85,
   "metadata": {},
   "outputs": [],
   "source": [
    "tabla = [\n",
    "    [0,0,0],\n",
    "    [1,1,1],\n",
    "    [2,2,2],\n",
    "]"
   ]
  },
  {
   "cell_type": "code",
   "execution_count": 86,
   "metadata": {},
   "outputs": [
    {
     "name": "stdout",
     "output_type": "stream",
     "text": [
      "0\n",
      "0\n",
      "0\n",
      "1\n",
      "1\n",
      "1\n",
      "2\n",
      "2\n",
      "2\n"
     ]
    }
   ],
   "source": [
    "for fila in tabla:\n",
    "    for columna in fila:\n",
    "        print(columna)"
   ]
  },
  {
   "cell_type": "code",
   "execution_count": 87,
   "metadata": {},
   "outputs": [],
   "source": [
    "#utilizando end= podemos indicarle como queremos que sea \n",
    "#la visualizacion despues de cada numero"
   ]
  },
  {
   "cell_type": "code",
   "execution_count": 88,
   "metadata": {},
   "outputs": [
    {
     "name": "stdout",
     "output_type": "stream",
     "text": [
      "0 0 0 1 1 1 2 2 2 "
     ]
    }
   ],
   "source": [
    "for fila in tabla:\n",
    "    for columna in fila:\n",
    "        print(columna, end=' ')"
   ]
  },
  {
   "cell_type": "code",
   "execution_count": 92,
   "metadata": {},
   "outputs": [],
   "source": [
    "#hemos conseguido que nos salga todo en una fila\n",
    "#con un print () nos saldra todo como una tabla. Ponlo a nivel del segundo for"
   ]
  },
  {
   "cell_type": "code",
   "execution_count": 91,
   "metadata": {},
   "outputs": [
    {
     "name": "stdout",
     "output_type": "stream",
     "text": [
      "0 0 0 \n",
      "1 1 1 \n",
      "2 2 2 \n"
     ]
    }
   ],
   "source": [
    "for fila in tabla:\n",
    "    for columna in fila:\n",
    "        print(columna, end=' ')\n",
    "    print()"
   ]
  },
  {
   "cell_type": "code",
   "execution_count": 93,
   "metadata": {},
   "outputs": [],
   "source": [
    "#d"
   ]
  },
  {
   "cell_type": "code",
   "execution_count": 94,
   "metadata": {},
   "outputs": [
    {
     "name": "stdout",
     "output_type": "stream",
     "text": [
      "0 0 0 \n",
      "1 1 1 \n",
      "2 2 2 \n"
     ]
    }
   ],
   "source": [
    "for i, fila in enumerate(tabla):\n",
    "    for j, columna in enumerate(fila):\n",
    "        print(tabla[i][j], end=' ')\n",
    "    print()"
   ]
  },
  {
   "cell_type": "code",
   "execution_count": 95,
   "metadata": {},
   "outputs": [],
   "source": [
    "#esto es para una tabla en 2D, vamos a programas un cubo, es decir\n",
    "#que tenga profundidad"
   ]
  },
  {
   "cell_type": "code",
   "execution_count": 96,
   "metadata": {},
   "outputs": [],
   "source": [
    "cubo = [\n",
    "    tabla, tabla, tabla\n",
    "]"
   ]
  },
  {
   "cell_type": "code",
   "execution_count": 97,
   "metadata": {},
   "outputs": [
    {
     "name": "stdout",
     "output_type": "stream",
     "text": [
      "[[[0, 0, 0], [1, 1, 1], [2, 2, 2]], [[0, 0, 0], [1, 1, 1], [2, 2, 2]], [[0, 0, 0], [1, 1, 1], [2, 2, 2]]]\n"
     ]
    }
   ],
   "source": [
    "print(cubo)"
   ]
  },
  {
   "cell_type": "code",
   "execution_count": 98,
   "metadata": {},
   "outputs": [
    {
     "name": "stdout",
     "output_type": "stream",
     "text": [
      "2\n"
     ]
    }
   ],
   "source": [
    "print(cubo[0][2][1])"
   ]
  },
  {
   "cell_type": "code",
   "execution_count": 99,
   "metadata": {},
   "outputs": [
    {
     "name": "stdout",
     "output_type": "stream",
     "text": [
      "0\n",
      "0\n",
      "0\n",
      "1\n",
      "1\n",
      "1\n",
      "2\n",
      "2\n",
      "2\n",
      "0\n",
      "0\n",
      "0\n",
      "1\n",
      "1\n",
      "1\n",
      "2\n",
      "2\n",
      "2\n",
      "0\n",
      "0\n",
      "0\n",
      "1\n",
      "1\n",
      "1\n",
      "2\n",
      "2\n",
      "2\n"
     ]
    }
   ],
   "source": [
    "for tabla in cubo:\n",
    "    for fila in tabla:\n",
    "        for columna in fila:\n",
    "            print(columna)"
   ]
  },
  {
   "cell_type": "code",
   "execution_count": 101,
   "metadata": {},
   "outputs": [
    {
     "name": "stdout",
     "output_type": "stream",
     "text": [
      "0 0 0 \n",
      "1 1 1 \n",
      "2 2 2 \n",
      "\n",
      "0 0 0 \n",
      "1 1 1 \n",
      "2 2 2 \n",
      "\n",
      "0 0 0 \n",
      "1 1 1 \n",
      "2 2 2 \n",
      "\n"
     ]
    }
   ],
   "source": [
    "for k, profundidad in enumerate(cubo):\n",
    "    for i, fila in enumerate(profundidad):\n",
    "        for j, columna in enumerate(fila):\n",
    "            print (cubo[k][i][j], end=' ')\n",
    "        print()\n",
    "    print()"
   ]
  },
  {
   "cell_type": "code",
   "execution_count": null,
   "metadata": {},
   "outputs": [],
   "source": []
  }
 ],
 "metadata": {
  "kernelspec": {
   "display_name": "Python 3 (ipykernel)",
   "language": "python",
   "name": "python3"
  },
  "language_info": {
   "codemirror_mode": {
    "name": "ipython",
    "version": 3
   },
   "file_extension": ".py",
   "mimetype": "text/x-python",
   "name": "python",
   "nbconvert_exporter": "python",
   "pygments_lexer": "ipython3",
   "version": "3.11.5"
  }
 },
 "nbformat": 4,
 "nbformat_minor": 4
}
